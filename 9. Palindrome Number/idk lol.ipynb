{
 "cells": [
  {
   "cell_type": "code",
   "execution_count": null,
   "metadata": {},
   "outputs": [],
   "source": [
    "class Solution(object):\n",
    "    def isPalindrome(self, x):\n",
    "        \n",
    "        x: int\n",
    "        rtype: bool\n",
    "\n",
    "        x = 121\n",
    "\n",
    "        str(x) = inP \n",
    "\n",
    "        inPInv = inP[::-1]\n",
    "\n",
    "        print(inPInv)"
   ]
  }
 ],
 "metadata": {
  "language_info": {
   "name": "python"
  },
  "orig_nbformat": 4
 },
 "nbformat": 4,
 "nbformat_minor": 2
}
